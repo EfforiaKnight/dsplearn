{
 "cells": [
  {
   "cell_type": "code",
   "execution_count": 44,
   "metadata": {},
   "outputs": [],
   "source": [
    "import numpy as np\n",
    "import matplotlib.pyplot as plt\n",
    "from wave import open as open_wave\n",
    "\n",
    "%matplotlib inline"
   ]
  },
  {
   "cell_type": "code",
   "execution_count": 45,
   "metadata": {},
   "outputs": [],
   "source": [
    "# Config parameters\n",
    "N_fft = 256\n",
    "N = 3\n",
    "td_scalar = 5\n",
    "fd_scalar = 3\n",
    "tone_duration = 0.04\n",
    "\n",
    "DTMF_FREQ = [697, 770, 852, 941, 1209, 1336, 1477] # 1633Hz for A, B, C, D column tones\n",
    "DTMF_KEYPAD = [[\"1\", \"2\", \"3\"],\n",
    "               [\"4\", \"5\", \"6\"],\n",
    "               [\"7\", \"8\", \"9\"],\n",
    "               [\"*\", \"0\", \"#\"]]"
   ]
  },
  {
   "cell_type": "code",
   "execution_count": 46,
   "metadata": {
    "code_folding": [
     10,
     20,
     45,
     53,
     79,
     98
    ]
   },
   "outputs": [],
   "source": [
    "def plot_time(signal, title=\"\"):\n",
    "    ''' Plot sginal in time domain.\n",
    "    '''\n",
    "    fig, ax = plt.subplots(figsize=(16, 6))\n",
    "    ax.set_title(title)\n",
    "    ax.set_xlabel(\"Time [sec]\")\n",
    "    ax.set_ylabel(\"Magnitude\")\n",
    "    ax.plot(signal)\n",
    "    \n",
    "    \n",
    "def plot_spectrum(freq, S, title=\"\"):\n",
    "    ''' Plot sginal in frequency domain.\n",
    "    '''    \n",
    "    fig, ax = plt.subplots(figsize=(16, 6))\n",
    "    ax.set_title(title)\n",
    "    ax.set_xlabel(\"Frequency [Hz]\")\n",
    "    ax.set_ylabel(\"Magnitude\")\n",
    "    ax.plot(freq, S)\n",
    "    \n",
    "\n",
    "def plot_signal_and_spectrum(s, fs):\n",
    "    ''' Plot sginal in time domain and in frequency domain.\n",
    "    '''\n",
    "    plt.subplots(1, 2, figsize=(20, 6))\n",
    "\n",
    "    plt.subplot(121)\n",
    "    plt.plot(s)\n",
    "    plt.xlabel(\"Time [sec]\")\n",
    "    plt.ylabel(\"Magnitude\")\n",
    "    plt.ylim([-1.5, 1.5])\n",
    "    plt.grid()\n",
    "\n",
    "    # spectrum of s (fs samples taken)\n",
    "    # plot only the 1st half of spectrum (since it's symmetric)\n",
    "    plt.subplot(122)\n",
    "\n",
    "    amps = np.abs(np.fft.rfft(s, fs))\n",
    "    freqs = np.fft.rfftfreq(fs, 1/fs)\n",
    "\n",
    "    plt.xlabel(\"Freq [Hz]\")\n",
    "    plt.ylabel(\"Magnitude\")\n",
    "    plt.plot(freqs, amps)\n",
    "    plt.grid()\n",
    "    \n",
    "    \n",
    "def moving_average(data, window_width=3):\n",
    "    ''' Moving average filter\n",
    "    '''    \n",
    "    cumsum_vec = np.cumsum(np.insert(data, 0, 0), dtype=float) \n",
    "    ma_vec = (cumsum_vec[window_width:] - cumsum_vec[:-window_width]) / window_width\n",
    "    return ma_vec\n",
    "    \n",
    "    \n",
    "def group_nearest(samples, threshold):\n",
    "    \"\"\" [Generator function] Groups frequencies where the diff is lower than threshold.\n",
    "    \n",
    "    Parameters\n",
    "    ----------\n",
    "    samples : (ndarray)\n",
    "        Sample candidates. Form (freq, amp)\n",
    "    threshold: (integer)\n",
    "        Threshold.\n",
    "        \n",
    "    Returns\n",
    "    ----------\n",
    "    object : (generator object)\n",
    "        Grouped numpy array\n",
    "    \"\"\" \n",
    "    grp = []\n",
    "    last = samples[0][0] # First time idx\n",
    "    for (time, amp) in samples:\n",
    "        if time - last > threshold:\n",
    "            yield np.mean(grp, axis=0)\n",
    "            grp = []\n",
    "        grp.append((time, amp))\n",
    "        last = time\n",
    "    yield np.mean(grp, axis=0)\n",
    "    \n",
    "\n",
    "def dtmf_freq_idx(samples_freq):\n",
    "    \"\"\" Find the closest frequency from samples_freq to DTMF frequencies.\n",
    "    \n",
    "    Parameters\n",
    "    ----------\n",
    "    samples_freq : (ndarray)\n",
    "        List of frequencies from fftfreq\n",
    "\n",
    "    Returns\n",
    "    ----------\n",
    "    idxs : (list)\n",
    "        List of indexes from DTMF_FREQ list that correspond to samples_freq\n",
    "    \"\"\" \n",
    "    idxs = []\n",
    "    for freq in samples_freq:\n",
    "        idxs.append((np.abs(DTMF_FREQ - freq)).argmin())\n",
    "    return idxs\n",
    "\n",
    "\n",
    "def get_key(dtmf_idx):\n",
    "    \"\"\" Get the key from DTMF keypad \n",
    "    \n",
    "    Parameters\n",
    "    ----------\n",
    "    dtmf_idx : (integer)\n",
    "        Index/es of DTMF keypad \n",
    "\n",
    "    Returns\n",
    "    ----------\n",
    "    key : (string)\n",
    "        Key/Number from DTMF keypad\n",
    "    \"\"\"    \n",
    "    row = dtmf_idx[0]\n",
    "    col = dtmf_idx[1] - len(DTMF_KEYPAD)\n",
    "    \n",
    "    return DTMF_KEYPAD[row][col]\n",
    "    \n",
    "    \n",
    "def normalize(array, amp=1.0):\n",
    "    \"\"\" Normalizes a array so the maximum amplitude is +amp or -amp.\n",
    "    \n",
    "    Parameters\n",
    "    ----------\n",
    "    array : (ndarray)\n",
    "        signal array   \n",
    "    amp : (float)\n",
    "        max amplitude (pos or neg) in result. Defaults to 1.0\n",
    "\n",
    "    Returns\n",
    "    ----------\n",
    "    array : (ndarray)\n",
    "        normilized signal array\n",
    "    \"\"\"\n",
    "    high, low = abs(max(array)), abs(min(array))\n",
    "    return amp * array / max(high, low)\n",
    "                        \n",
    "\n",
    "def read_wave(filename):\n",
    "    \"\"\" Reads a wave file.\n",
    "    \n",
    "    Parameters\n",
    "    ----------\n",
    "    filename: (string)\n",
    "\n",
    "    Returns\n",
    "    ----------\n",
    "    array : (ndarray)\n",
    "        normilized signal array\n",
    "    \"\"\"\n",
    "    fp = open_wave(filename, 'r')\n",
    "\n",
    "    nchannels = fp.getnchannels()\n",
    "    nframes = fp.getnframes()\n",
    "    sampwidth = fp.getsampwidth()\n",
    "    framerate = fp.getframerate()\n",
    "    \n",
    "    z_str = fp.readframes(nframes)\n",
    "    \n",
    "    fp.close()\n",
    "\n",
    "    dtype_map = {1:np.int8, 2:np.int16}\n",
    "    if sampwidth not in dtype_map:\n",
    "        raise ValueError('sampwidth {} unknown'.format(sampwidth))\n",
    "    \n",
    "    array = np.fromstring(z_str, dtype=dtype_map[sampwidth])\n",
    "\n",
    "    # if it's in stereo, just pull out the first channel\n",
    "    if nchannels == 2:\n",
    "        array = array[::2]\n",
    "\n",
    "    return framerate, normalize(array), nframes\n",
    "    "
   ]
  },
  {
   "cell_type": "code",
   "execution_count": 47,
   "metadata": {
    "code_folding": []
   },
   "outputs": [],
   "source": [
    "def find_candidates(sig):\n",
    "    ''' Filter and find candidates whos amplitude are above threshold\n",
    "        \n",
    "    Parameters\n",
    "    ----------\n",
    "    sig: (ndarray)\n",
    "\n",
    "    Returns\n",
    "    ----------\n",
    "    tone_candidates : (ndarray)\n",
    "        Frequency and amplitude of the candidates\n",
    "    \"\"\"\n",
    "    '''\n",
    "    ## Executing convolution on smaller window is faster than moving average.\n",
    "    ## But very computation time consuming on bigger window.\n",
    "    # for N = 3\n",
    "    # moving_average: 674 µs ± 13.3 µs per loop (mean ± std. dev. of 7 runs, 1000 loops each)\n",
    "    # convolve:       274 µs ± 44.3 µs per loop (mean ± std. dev. of 7 runs, 1000 loops each)\n",
    "\n",
    "    # for N = 1000\n",
    "    # moving_average: 689 µs ± 46.4 µs per loop (mean ± std. dev. of 7 runs, 1000 loops each)\n",
    "    # convolve:       14 ms ± 166 µs per loop (mean ± std. dev. of 7 runs, 100 loops each)\n",
    "    \n",
    "    s_filtered = np.abs(np.convolve(sig, np.ones(N)/N, mode='valid'))\n",
    "    s_filtered = normalize(s_filtered)\n",
    "#     plot_time(s_filtered, title=\"Filtered Signal in Time Domain\")\n",
    "\n",
    "    tone_candidates = np.array([(sample, amp) for (sample, amp) in enumerate(s_filtered) if amp > np.mean(s_filtered) * td_scalar])\n",
    "    # display(tone_candidates, len(tone_candidates), avg)\n",
    "    return tone_candidates"
   ]
  },
  {
   "cell_type": "code",
   "execution_count": 55,
   "metadata": {},
   "outputs": [],
   "source": [
    "def freq_analyze(s, td_pieces, smpl_freqs, smpl_duration):\n",
    "    ''' Analyze each time piece in frequency domain.\n",
    "        \n",
    "    Parameters\n",
    "    ----------\n",
    "    s : (ndarray)\n",
    "        Original signal\n",
    "    td_pieces : (ndarray)\n",
    "        Time Domain pieces (candidates) to decode\n",
    "    smpl_freqs : (ndarray)\n",
    "        Span of frequencies\n",
    "    smpl_duration : (float)\n",
    "        Duration of the sample, sample_rate x tone_time_duration\n",
    "    Returns\n",
    "    ----------\n",
    "    freq_cand : (ndarray)\n",
    "        Frequency candidates\n",
    "    start : (integer)\n",
    "        Start offset\n",
    "    stop : (integer)\n",
    "        Stop offset\n",
    "    duration : (integer)\n",
    "        Duration of the signal        \n",
    "    '''\n",
    "    decoded = []\n",
    "\n",
    "    for td_piece in td_pieces:\n",
    "        start = int(td_piece[0] - smpl_duration / 2)\n",
    "        stop = int(td_piece[0] + smpl_duration / 2)\n",
    "        duration = stop - start\n",
    "\n",
    "        # Amplitudes of the samples after fft\n",
    "        smpl_fft = np.abs(np.fft.rfft(s[start:stop], N_fft))\n",
    "        smpl_fft = normalize(smpl_fft)\n",
    "#         plot_spectrum(smpl_freqs, smpl_fft) \n",
    "    \n",
    "        # Take only highest amp frequencies\n",
    "        freq_cand = smpl_freqs[np.argwhere(smpl_fft > np.average(smpl_fft) * fd_scalar)]\n",
    "        display(freq_cand)\n",
    "\n",
    "        # Convert freq candidates to DTMF indexes\n",
    "        DTMF_idx = list(set(dtmf_freq_idx(freq_cand)))\n",
    "#         display(DTMF_idx)\n",
    "\n",
    "        # Check if we have exactly two candidates\n",
    "        if len(DTMF_idx) == 2:\n",
    "            decoded.append(get_key(DTMF_idx))\n",
    "        else:\n",
    "            decoded.append(None)\n",
    "        \n",
    "    return decoded, start, stop, duration"
   ]
  },
  {
   "cell_type": "code",
   "execution_count": 59,
   "metadata": {},
   "outputs": [],
   "source": [
    "def decode_signal(filename=\"phonecall.wav\"):\n",
    "    ''' Decodes DTMF signal.\n",
    "        \n",
    "    Parameters\n",
    "    ----------\n",
    "    filename: (string)\n",
    "        \n",
    "    Returns\n",
    "    ----------\n",
    "    decoded : (string)\n",
    "        Decoded string\n",
    "    '''\n",
    "\n",
    "    fs, s, frames = read_wave(filename)\n",
    "    \n",
    "    smpl_duration = fs * tone_duration\n",
    "    \n",
    "    tone_candidates = find_candidates(s)\n",
    "    grp_cand = list(group_nearest(tone_candidates, threshold=400))\n",
    "    \n",
    "    # Frequency span of the samples\n",
    "    smpl_freqs = np.fft.rfftfreq(N_fft, 1/fs)\n",
    "    \n",
    "    # Analyze each time group (candidates)\n",
    "    (decoded, start, stop, duration) = freq_analyze(s, grp_cand, smpl_freqs, smpl_duration)\n",
    "    \n",
    "    # Print appropriete message to the user\n",
    "    if all(decoded):\n",
    "        print(\"Decoded number are {}\".format(decoded))\n",
    "    elif any(decoded):\n",
    "        print(\"Could not decode all candidates. Decoded numbers are:\\n{}\\nTry lowering the tone_duration\".format(decoded))\n",
    "    else:\n",
    "        print(\"Could not decode DTMF from {} try lowering the tone_duration\".format(filename))"
   ]
  },
  {
   "cell_type": "code",
   "execution_count": 58,
   "metadata": {},
   "outputs": [
    {
     "name": "stdout",
     "output_type": "stream",
     "text": [
      "[array([ 364.5       ,    0.80736432]), array([  1.99200000e+03,   7.93079244e-01]), array([  3.44150000e+03,   8.48330297e-01]), array([  1.30753333e+04,   8.05967920e-01]), array([  2.30540000e+04,   8.45754055e-01]), array([  3.24160000e+04,   8.31446578e-01]), array([  4.20894000e+04,   7.93957406e-01]), array([  5.16526667e+04,   8.40706114e-01]), array([  6.10998750e+04,   8.42879118e-01]), array([  7.08515000e+04,   8.81866245e-01])]\n"
     ]
    },
    {
     "data": {
      "text/plain": [
       "array([[  937.5 ],\n",
       "       [ 1343.75]])"
      ]
     },
     "metadata": {},
     "output_type": "display_data"
    },
    {
     "data": {
      "text/plain": [
       "array([[  750.  ],\n",
       "       [  781.25],\n",
       "       [ 1343.75]])"
      ]
     },
     "metadata": {},
     "output_type": "display_data"
    },
    {
     "data": {
      "text/plain": [
       "array([[  750.  ],\n",
       "       [  781.25],\n",
       "       [ 1187.5 ],\n",
       "       [ 1218.75]])"
      ]
     },
     "metadata": {},
     "output_type": "display_data"
    },
    {
     "data": {
      "text/plain": [
       "array([[  750.  ],\n",
       "       [  781.25],\n",
       "       [ 1468.75]])"
      ]
     },
     "metadata": {},
     "output_type": "display_data"
    },
    {
     "data": {
      "text/plain": [
       "array([[  781.25],\n",
       "       [ 1187.5 ],\n",
       "       [ 1218.75]])"
      ]
     },
     "metadata": {},
     "output_type": "display_data"
    },
    {
     "data": {
      "text/plain": [
       "array([[  687.5 ],\n",
       "       [  718.75],\n",
       "       [ 1343.75]])"
      ]
     },
     "metadata": {},
     "output_type": "display_data"
    },
    {
     "data": {
      "text/plain": [
       "array([[  843.75],\n",
       "       [ 1187.5 ],\n",
       "       [ 1218.75]])"
      ]
     },
     "metadata": {},
     "output_type": "display_data"
    },
    {
     "data": {
      "text/plain": [
       "array([[  687.5 ],\n",
       "       [ 1468.75]])"
      ]
     },
     "metadata": {},
     "output_type": "display_data"
    },
    {
     "data": {
      "text/plain": [
       "array([[  687.5 ],\n",
       "       [ 1187.5 ],\n",
       "       [ 1218.75]])"
      ]
     },
     "metadata": {},
     "output_type": "display_data"
    },
    {
     "data": {
      "text/plain": [
       "array([[  750.  ],\n",
       "       [  781.25],\n",
       "       [ 1468.75]])"
      ]
     },
     "metadata": {},
     "output_type": "display_data"
    },
    {
     "name": "stdout",
     "output_type": "stream",
     "text": [
      "Decoded number are ['0', '5', '4', '6', '4', '2', '7', '3', '1', '6']\n"
     ]
    }
   ],
   "source": [
    "decode_signal()"
   ]
  }
 ],
 "metadata": {
  "kernelspec": {
   "display_name": "Python (DSP)",
   "language": "python",
   "name": "dsp"
  },
  "language_info": {
   "codemirror_mode": {
    "name": "ipython",
    "version": 3
   },
   "file_extension": ".py",
   "mimetype": "text/x-python",
   "name": "python",
   "nbconvert_exporter": "python",
   "pygments_lexer": "ipython3",
   "version": "3.6.3"
  }
 },
 "nbformat": 4,
 "nbformat_minor": 2
}
